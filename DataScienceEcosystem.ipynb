{
 "cells": [
  {
   "cell_type": "markdown",
   "id": "8f4813bb",
   "metadata": {},
   "source": [
    "# Data Science tools and Ecosystem"
   ]
  },
  {
   "cell_type": "markdown",
   "id": "a0bea695",
   "metadata": {},
   "source": [
    "In this notebook, Data Science Tools and Echosystem are summarized"
   ]
  },
  {
   "cell_type": "markdown",
   "id": "fc0f633e",
   "metadata": {},
   "source": [
    "Some of the popular languages that Data Scientists use are:\n",
    "   \n",
    "    1. Python\n",
    "    2. R\n",
    "    3. SQL\n",
    "    4. C++\n",
    "    5. Java etc..;"
   ]
  },
  {
   "cell_type": "markdown",
   "id": "73502366",
   "metadata": {},
   "source": [
    "Some of the commonly used libraries used by Data Scientiests include:\n",
    "    \n",
    "    1. TensorFlow.\n",
    "    2. NumPy.\n",
    "    3. SciPy.\n",
    "    4. Pandas.\n",
    "    5. Matplotlib\n",
    "    6. Keras.\n",
    "    7. Scikit-Learn.\n",
    "    8. PyTorch.etc..;"
   ]
  },
  {
   "cell_type": "markdown",
   "id": "daeaae1f",
   "metadata": {},
   "source": [
    "|Data Science Tools|\n",
    "|---|\n",
    "|SAS|\n",
    "|Apache Hadoop|\n",
    "|TensorFlow|"
   ]
  },
  {
   "cell_type": "markdown",
   "id": "e05feb84",
   "metadata": {},
   "source": [
    "### Below are few examples of evaluating arithmetic expressions in Python"
   ]
  },
  {
   "cell_type": "code",
   "execution_count": 1,
   "id": "55930855",
   "metadata": {},
   "outputs": [
    {
     "data": {
      "text/plain": [
       "17"
      ]
     },
     "execution_count": 1,
     "metadata": {},
     "output_type": "execute_result"
    }
   ],
   "source": [
    "#this is a common arithmetic examples to multiply and then odd integers\n",
    "(3*4)+5"
   ]
  },
  {
   "cell_type": "code",
   "execution_count": 2,
   "id": "ec3191a1",
   "metadata": {},
   "outputs": [
    {
     "data": {
      "text/plain": [
       "3.3333333333333335"
      ]
     },
     "execution_count": 2,
     "metadata": {},
     "output_type": "execute_result"
    }
   ],
   "source": [
    "#This will convert 200 minutes to hours by diving by 60\n",
    "200/60"
   ]
  },
  {
   "cell_type": "markdown",
   "id": "616a1fff",
   "metadata": {},
   "source": [
    "__objective__\n",
    "* List popular languages for Data Science\n",
    "* List popular libraries for Data Science\n",
    "* List of Well known Data Science Tools\n",
    "* How to Provide comments in the cell"
   ]
  },
  {
   "cell_type": "markdown",
   "id": "b23a5900",
   "metadata": {},
   "source": [
    "## Author \n",
    "Swapnil Prajapati"
   ]
  }
 ],
 "metadata": {
  "kernelspec": {
   "display_name": "Python 3 (ipykernel)",
   "language": "python",
   "name": "python3"
  },
  "language_info": {
   "codemirror_mode": {
    "name": "ipython",
    "version": 3
   },
   "file_extension": ".py",
   "mimetype": "text/x-python",
   "name": "python",
   "nbconvert_exporter": "python",
   "pygments_lexer": "ipython3",
   "version": "3.9.13"
  }
 },
 "nbformat": 4,
 "nbformat_minor": 5
}
